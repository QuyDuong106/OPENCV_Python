{
 "cells": [
  {
   "cell_type": "markdown",
   "metadata": {},
   "source": [
    "# READ, DISPLAY AND WRITE AN IMAGE WITH OPENCV\n"
   ]
  },
  {
   "cell_type": "code",
   "execution_count": 1,
   "metadata": {},
   "outputs": [
    {
     "data": {
      "text/plain": [
       "True"
      ]
     },
     "execution_count": 1,
     "metadata": {},
     "output_type": "execute_result"
    }
   ],
   "source": [
    "import numpy as np\n",
    "import cv2\n",
    "\n",
    "img_grayscale = cv2.imread(\"test.jpg\",0)\n",
    "cv2.imshow(\"grayscale image\",img_grayscale)\n",
    "\n",
    "cv2.waitKey(0)\n",
    "\n",
    "cv2.destroyAllWindows()\n",
    "\n",
    "cv2.imwrite(\"grayscale.jpg\",img_grayscale)"
   ]
  },
  {
   "cell_type": "code",
   "execution_count": 2,
   "metadata": {},
   "outputs": [],
   "source": [
    "img_color = cv2.imread('test.jpg',cv2.IMREAD_COLOR) #1\n",
    "img_grayscale =cv2.imread(\"test.jpg\",cv2.IMREAD_GRAYSCALE)#0\n",
    "img_unchanged = cv2.imread('test.jpg',cv2.IMREAD_UNCHANGED)#-1\n",
    "\n",
    "cv2.imshow(\"Image Color\",img_color)\n",
    "cv2.imshow(\"Image GrayScale\",img_grayscale)\n",
    "cv2.imshow(\"Image Unchange\",img_unchanged)\n",
    "\n",
    "cv2.waitKey(0)\n",
    "\n",
    "cv2.destroyAllWindows()\n",
    "\n"
   ]
  },
  {
   "cell_type": "code",
   "execution_count": 3,
   "metadata": {},
   "outputs": [
    {
     "data": {
      "text/plain": [
       "True"
      ]
     },
     "execution_count": 3,
     "metadata": {},
     "output_type": "execute_result"
    }
   ],
   "source": [
    "cv2.imwrite(\"grayscale.jpg\",img_grayscale)"
   ]
  }
 ],
 "metadata": {
  "kernelspec": {
   "display_name": "venv",
   "language": "python",
   "name": "python3"
  },
  "language_info": {
   "codemirror_mode": {
    "name": "ipython",
    "version": 3
   },
   "file_extension": ".py",
   "mimetype": "text/x-python",
   "name": "python",
   "nbconvert_exporter": "python",
   "pygments_lexer": "ipython3",
   "version": "3.11.5"
  },
  "orig_nbformat": 4
 },
 "nbformat": 4,
 "nbformat_minor": 2
}
