{
 "cells": [
  {
   "cell_type": "markdown",
   "metadata": {},
   "source": [
    "# Image rotation and Translation using OpenCV\n",
    "- Rotate an image \n",
    "- Translate or shift the image content"
   ]
  },
  {
   "attachments": {
    "image.png": {
     "image/png": "[encoded data removed]"
    }
   },
   "cell_type": "markdown",
   "metadata": {},
   "source": [
    "You can rotate an image by a certain angle \\theta by defining a transformation matrix M. This matrix is usually of the form:\n",
    "\n",
    "![image.png](attachment:image.png)\n",
    "\n",
    "OpenCV provides the ability to define the center of rotation for the image and a scale factor to resize the image as well. In that case, the transformation matrix gets modified."
   ]
  },
  {
   "cell_type": "code",
   "execution_count": 2,
   "metadata": {},
   "outputs": [],
   "source": [
    "#Image rotaion using openCV\n",
    "import cv2\n",
    "image = cv2.imread(\"cat_image.jpg\")\n",
    "\n",
    "height, width = image.shape[:2]\n",
    "center = (width / 2, height / 2)\n",
    "\n",
    "rotate_matrix = cv2.getRotationMatrix2D(center=center, angle= 90, scale= 1)\n",
    "\n",
    "rotate_image = cv2.warpAffine(src= image, M=rotate_matrix, dsize = (width,height))\n",
    "\n",
    "cv2.imshow(\"Orignal Image\",image)\n",
    "cv2.imshow(\"Rotated Image\",rotate_image)\n",
    "\n",
    "cv2.waitKey(0)\n",
    "cv2.imwrite(\"Rotated_Image.jpg\",rotate_image)\n",
    "\n",
    "cv2.destroyAllWindows()"
   ]
  },
  {
   "cell_type": "markdown",
   "metadata": {},
   "source": [
    "The getRotationMatrix2D() function takes the following arguments:\n",
    "\n",
    "- center: the center of rotation for the input image\n",
    "- angle: the angle of rotation in degrees\n",
    "- scale: an isotropic scale factor which scales the image up or down according to the value provided"
   ]
  },
  {
   "cell_type": "markdown",
   "metadata": {},
   "source": [
    "warpAffine(src, M, dsize[, dst[, flags[, borderMode[, borderValue]]]])\n",
    "- src: the source mage\n",
    "- M: the transformation matrix\n",
    "- dsize: size of the output image\n",
    "- dst: the output image\n",
    "- flags: combination of interpolation methods such as INTER_LINEAR or INTER_NEAREST\n",
    "- borderMode: the pixel extrapolation method\n",
    "- borderValue: the value to be used in case of a constant border, has a default value of 0"
   ]
  },
  {
   "cell_type": "markdown",
   "metadata": {},
   "source": []
  },
  {
   "cell_type": "code",
   "execution_count": 4,
   "metadata": {},
   "outputs": [],
   "source": [
    "#Translation of Image using OpenCV\n",
    "import cv2 \n",
    "import numpy as np \n",
    "\n",
    "image = cv2.imread(\"cat_image.jpg\")\n",
    "\n",
    "height,width = image.shape[:2]\n",
    "\n",
    "#tx,ty value for the translation\n",
    "tx, ty = width/4, height/4\n",
    "translation_matrix = np.array([\n",
    "    [1, 0, tx],\n",
    "    [0, 1, ty]\n",
    "], dtype =np.float32)\n",
    "\n",
    "#translation image \n",
    "translated_image = cv2.warpAffine(src = image, M=translation_matrix, dsize=(width, height))\n",
    "\n",
    "cv2.imshow(\"Orignal Image\",image)\n",
    "cv2.imshow(\"Transalated_Image\",translated_image)\n",
    "\n",
    "cv2.waitKey(0)\n",
    "cv2.destroyAllWindows()"
   ]
  },
  {
   "cell_type": "code",
   "execution_count": null,
   "metadata": {},
   "outputs": [],
   "source": []
  }
 ],
 "metadata": {
  "kernelspec": {
   "display_name": "venv",
   "language": "python",
   "name": "python3"
  },
  "language_info": {
   "codemirror_mode": {
    "name": "ipython",
    "version": 3
   },
   "file_extension": ".py",
   "mimetype": "text/x-python",
   "name": "python",
   "nbconvert_exporter": "python",
   "pygments_lexer": "ipython3",
   "version": "3.11.5"
  },
  "orig_nbformat": 4
 },
 "nbformat": 4,
 "nbformat_minor": 2
}
