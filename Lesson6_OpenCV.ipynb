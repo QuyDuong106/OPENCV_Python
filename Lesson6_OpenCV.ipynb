{
 "cells": [
  {
   "cell_type": "markdown",
   "metadata": {},
   "source": [
    "# Annotating Images Using OpenCV\n",
    "- Adding information to your demos\n",
    "- Drawing bounding boxes around objects in case of object detection\n",
    "- Highlighting pixels with different colors for image segmentation"
   ]
  },
  {
   "cell_type": "code",
   "execution_count": 1,
   "metadata": {},
   "outputs": [],
   "source": [
    "import cv2\n",
    "import numpy as np \n",
    "\n",
    "image = cv2.imread(\"Source/romanian-deadlift-1595930760.jpg\")"
   ]
  },
  {
   "cell_type": "code",
   "execution_count": 3,
   "metadata": {},
   "outputs": [],
   "source": [
    "#Annotate an Image with Color Line\n",
    "cv2.imshow(\"Original Image\",image)\n",
    "\n",
    "if image is None:\n",
    "    print(\"Could not read image\")\n",
    "image_line = image.copy()\n",
    "pointA = (200,80)\n",
    "pointB = (450,80)\n",
    "cv2.line(image_line, pointA, pointB, (255,255,0), thickness=2)\n",
    "cv2.imshow(\"Image Line\",image_line)\n",
    "\n",
    "cv2.waitKey(0)\n",
    "cv2.destroyAllWindows()"
   ]
  },
  {
   "cell_type": "markdown",
   "metadata": {},
   "source": [
    "line(image, start_point, end_point, color, thickness)\n",
    "- The first argument is the image. \n",
    "- The next two arguments are the starting point and ending point for the line. \n",
    "\n",
    "Draw a line from point A(x1, y1) to point B(x2, y2), where A and B represent any two points in the image. Look at the top left corner of the image, you’ll find there the origin of the xy coordinate system.\n",
    "\n",
    "- The x-axis represents the horizontal direction or the columns of the image.\n",
    "- The y-axis represents the vertical direction or the rows of the image."
   ]
  },
  {
   "cell_type": "code",
   "execution_count": null,
   "metadata": {},
   "outputs": [],
   "source": []
  },
  {
   "cell_type": "markdown",
   "metadata": {},
   "source": []
  }
 ],
 "metadata": {
  "kernelspec": {
   "display_name": "venv",
   "language": "python",
   "name": "python3"
  },
  "language_info": {
   "codemirror_mode": {
    "name": "ipython",
    "version": 3
   },
   "file_extension": ".py",
   "mimetype": "text/x-python",
   "name": "python",
   "nbconvert_exporter": "python",
   "pygments_lexer": "ipython3",
   "version": "3.11.5"
  },
  "orig_nbformat": 4
 },
 "nbformat": 4,
 "nbformat_minor": 2
}
