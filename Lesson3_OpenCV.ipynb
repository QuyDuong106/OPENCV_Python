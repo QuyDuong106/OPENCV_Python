{
 "cells": [
  {
   "cell_type": "code",
   "execution_count": 4,
   "metadata": {},
   "outputs": [
    {
     "data": {
      "text/plain": [
       "-1"
      ]
     },
     "execution_count": 4,
     "metadata": {},
     "output_type": "execute_result"
    }
   ],
   "source": [
    "import cv2 \n",
    "import numpy as np\n",
    "\n",
    "image = cv2.imread(\"cat_image.jpg\")\n",
    "cv2.imshow(\"Cat\",image)\n",
    "\n",
    "#Resizing with specific index\n",
    "#DOWNSCALE\n",
    "downwidth = 300\n",
    "downheight = 200\n",
    "downpoint = (downwidth,downheight)\n",
    "resized_down = cv2.resize(image, downpoint,interpolation= cv2.INTER_LINEAR)\n",
    "cv2.imshow(\"Downscale_picture\",resized_down)\n",
    "\n",
    "#UPSCALE\n",
    "upwidth = 600\n",
    "upheight = 400\n",
    "uppoint = (upwidth,upheight)\n",
    "resized_up = cv2.resize(image, uppoint, interpolation= cv2.INTER_LINEAR)\n",
    "cv2.imshow(\"Upscale picture\",resized_up)\n",
    "\n",
    "\n",
    "cv2.waitKey(0)\n"
   ]
  },
  {
   "cell_type": "code",
   "execution_count": 5,
   "metadata": {},
   "outputs": [],
   "source": [
    "image = cv2.imread(\"cat_image.jpg\")"
   ]
  },
  {
   "cell_type": "code",
   "execution_count": 6,
   "metadata": {},
   "outputs": [
    {
     "name": "stdout",
     "output_type": "stream",
     "text": [
      "Original Height and Width: 1500 x 3\n"
     ]
    }
   ],
   "source": [
    "h,w,c = image.shape\n",
    "print(\"Original Height and Width:\",h,\"x\",c)"
   ]
  },
  {
   "cell_type": "markdown",
   "metadata": {},
   "source": [
    "resize(src, dsize[, dst[, fx[, fy[, interpolation]]]])\n",
    "\n",
    "- src: It is the required input image, it could be a string with the path of the input image (eg: ‘test_image.png’).\n",
    "- dsize: It is the desired size of the output image, it can be a new height and width.\n",
    "- fx: Scale factor along the horizontal axis.\n",
    "- fy: Scale factor along the vertical axis.\n",
    "interpolation: It gives us the option of different methods of resizing the image."
   ]
  },
  {
   "cell_type": "code",
   "execution_count": 7,
   "metadata": {},
   "outputs": [
    {
     "data": {
      "text/plain": [
       "-1"
      ]
     },
     "execution_count": 7,
     "metadata": {},
     "output_type": "execute_result"
    }
   ],
   "source": [
    "#Resizing with scailing factor\n",
    "scale_up_x = 1.2\n",
    "scale_up_y = 1.2\n",
    "scale_down = 0.6\n",
    "\n",
    "scale_f_up = cv2.resize(image,None, fx=scale_up_x, fy = scale_up_y, interpolation=cv2.INTER_LINEAR)\n",
    "scale_f_down = cv2.resize(image,None, fx =scale_down, fy = scale_down,interpolation=cv2.INTER_LINEAR)\n",
    "\n",
    "cv2.imshow('Resized Down by defining scaling factor', scale_f_down)\n",
    "cv2.waitKey()\n",
    "cv2.imshow('Resized Up image by defining scaling factor', scale_f_up)\n",
    "cv2.waitKey()"
   ]
  },
  {
   "cell_type": "markdown",
   "metadata": {},
   "source": [
    "- INTER_AREA: INTER_AREA uses pixel area relation for resampling. This is best suited for reducing the size of an image (shrinking). When used for zooming into the image, it uses the INTER_NEAREST method.\n",
    "- INTER_CUBIC: This uses bicubic interpolation for resizing the image. While resizing and interpolating new pixels, this method acts on the 4×4 neighboring pixels of the image. It then takes the weights average of the 16 pixels to create the new interpolated pixel.\n",
    "- INTER_LINEAR: This method is somewhat similar to the INTER_CUBIC interpolation. But unlike INTER_CUBIC, this uses 2×2 neighboring pixels to get the weighted average for the interpolated pixel.\n",
    "- INTER_NEAREST: The INTER_NEAREST method uses the nearest neighbor concept for interpolation. This is one of the simplest methods, using only one neighboring pixel from the image for interpolation."
   ]
  },
  {
   "cell_type": "code",
   "execution_count": 8,
   "metadata": {},
   "outputs": [],
   "source": [
    "res_inter_nearest = cv2.resize(image, None, fx= scale_down, fy= scale_down, interpolation= cv2.INTER_NEAREST)\n",
    "res_inter_linear = cv2.resize(image, None, fx= scale_down, fy= scale_down, interpolation= cv2.INTER_LINEAR)\n",
    "res_inter_area = cv2.resize(image, None, fx= scale_down, fy= scale_down, interpolation= cv2.INTER_AREA)"
   ]
  },
  {
   "cell_type": "code",
   "execution_count": 9,
   "metadata": {},
   "outputs": [
    {
     "data": {
      "text/plain": [
       "-1"
      ]
     },
     "execution_count": 9,
     "metadata": {},
     "output_type": "execute_result"
    }
   ],
   "source": [
    "\n",
    "\n",
    "cv2.imshow(\"Inter Nearest\",res_inter_nearest)\n",
    "cv2.imshow(\"Inter Linear\", res_inter_linear)\n",
    "cv2.imshow(\"Inter Area\", res_inter_area)\n",
    "cv2.waitKey(0)"
   ]
  }
 ],
 "metadata": {
  "kernelspec": {
   "display_name": "venv",
   "language": "python",
   "name": "python3"
  },
  "language_info": {
   "codemirror_mode": {
    "name": "ipython",
    "version": 3
   },
   "file_extension": ".py",
   "mimetype": "text/x-python",
   "name": "python",
   "nbconvert_exporter": "python",
   "pygments_lexer": "ipython3",
   "version": "3.11.5"
  },
  "orig_nbformat": 4
 },
 "nbformat": 4,
 "nbformat_minor": 2
}
