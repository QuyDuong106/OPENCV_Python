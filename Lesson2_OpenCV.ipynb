{
 "cells": [
  {
   "cell_type": "code",
   "execution_count": null,
   "metadata": {},
   "outputs": [],
   "source": [
    "import numpy as np\n",
    "import cv2 \n",
    "\n",
    "vid_capture = cv2.VideoCapture(\"squat_university.mp4\")\n",
    "\n",
    "if vid_capture.isOpened() == False:\n",
    "    print(\"Error opening video file\")\n",
    "\n",
    "else:\n",
    "    fps = vid_capture.get(5)\n",
    "    print(\"Frame per second :\",fps,'FPS')\n",
    "\n",
    "    frame_count = vid_capture.get(7)\n",
    "    print(\"Frame count:\",frame_count)\n",
    "\n",
    "while(vid_capture.isOpened()):\n",
    "    ret,frame = vid_capture.read()\n",
    "    if ret == True:\n",
    "        cv2.imshow('Frame',frame)\n",
    "\n",
    "        key = cv2.waitKey(20)\n",
    "\n",
    "        if key == ord('q'):\n",
    "            break\n",
    "    else:\n",
    "        break\n",
    "\n",
    "vid_capture.release()\n",
    "cv2.destroyAllWindows()\n"
   ]
  },
  {
   "cell_type": "markdown",
   "metadata": {},
   "source": [
    "Reading an image sequence / from a file"
   ]
  },
  {
   "cell_type": "code",
   "execution_count": null,
   "metadata": {},
   "outputs": [],
   "source": [
    "vid_capture = cv2.VideoCapture(\"Source/bench_press.mp4\")\n",
    "if vid_capture.isOpened() == False:\n",
    "    print(\"Error opening video file\")\n",
    "\n",
    "else:\n",
    "    fps = vid_capture.get(5)\n",
    "    print(\"Frame per second :\",fps,'FPS')\n",
    "\n",
    "    frame_count = vid_capture.get(7)\n",
    "    print(\"Frame count:\",frame_count)\n",
    "\n",
    "while(vid_capture.isOpened()):\n",
    "    ret,frame = vid_capture.read()\n",
    "    if ret == True:\n",
    "        cv2.imshow('Frame',frame)\n",
    "\n",
    "        key = cv2.waitKey(20)\n",
    "\n",
    "        if key == ord('q'):\n",
    "            break\n",
    "    else:\n",
    "        break\n",
    "\n",
    "vid_capture.release()\n",
    "cv2.destroyAllWindows()"
   ]
  },
  {
   "cell_type": "markdown",
   "metadata": {},
   "source": [
    "Reading Video from Webcam"
   ]
  },
  {
   "cell_type": "code",
   "execution_count": null,
   "metadata": {},
   "outputs": [],
   "source": [
    "vid_capture = cv2.VideoCapture(0, cv2.CAP_DSHOW)\n",
    "\n",
    "frame_width = int(vid_capture.get(3))\n",
    "frame_height = int(vid_capture.get(4))\n",
    "frame_size = frame(frame_width,frame_height)\n",
    "fps = 20\n",
    "\n",
    "while (vid_capture.isOpened()):\n",
    "    ret,frame = vid_capture.read()\n",
    "    if ret == True:\n",
    "        cv2.imshow(vid_capture)\n",
    "        if key == ord('q'):\n",
    "            break\n",
    "    else:\n",
    "        print(\"Stream disconnected\")\n",
    "        break\n",
    "\n",
    "vid_capture.release()"
   ]
  }
 ],
 "metadata": {
  "kernelspec": {
   "display_name": "venv",
   "language": "python",
   "name": "python3"
  },
  "language_info": {
   "codemirror_mode": {
    "name": "ipython",
    "version": 3
   },
   "file_extension": ".py",
   "mimetype": "text/x-python",
   "name": "python",
   "nbconvert_exporter": "python",
   "pygments_lexer": "ipython3",
   "version": "3.11.5"
  },
  "orig_nbformat": 4
 },
 "nbformat": 4,
 "nbformat_minor": 2
}
